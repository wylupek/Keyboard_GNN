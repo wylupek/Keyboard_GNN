{
 "cells": [
  {
   "cell_type": "markdown",
   "id": "518f930eeb9ed6",
   "metadata": {
    "collapsed": false
   },
   "source": [
    "## CUDA"
   ]
  },
  {
   "cell_type": "code",
   "id": "initial_id",
   "metadata": {
    "collapsed": true
   },
   "source": [
    "import sys\n",
    "print(sys.executable)\n",
    "!{sys.executable} --version"
   ],
   "outputs": [],
   "execution_count": null
  },
  {
   "cell_type": "code",
   "id": "68cb505718dd3b69",
   "metadata": {
    "collapsed": false,
    "ExecuteTime": {
     "end_time": "2024-12-01T10:47:45.819154Z",
     "start_time": "2024-12-01T10:47:45.581851Z"
    }
   },
   "source": [
    "!/usr/local/cuda-12.4/bin/nvcc --version\n",
    "print(\"Nvidia drivers: \", end=\"\")\n",
    "!nvidia-smi --query-gpu=driver_version --format=csv,noheader"
   ],
   "outputs": [
    {
     "name": "stdout",
     "output_type": "stream",
     "text": [
      "nvcc: NVIDIA (R) Cuda compiler driver\r\n",
      "Copyright (c) 2005-2024 NVIDIA Corporation\r\n",
      "Built on Thu_Mar_28_02:18:24_PDT_2024\r\n",
      "Cuda compilation tools, release 12.4, V12.4.131\r\n",
      "Build cuda_12.4.r12.4/compiler.34097967_0\r\n",
      "Nvidia drivers: 550.120\r\n"
     ]
    }
   ],
   "execution_count": 2
  },
  {
   "cell_type": "markdown",
   "id": "65c19d1ca77087ae",
   "metadata": {
    "collapsed": false
   },
   "source": [
    "## Install PyTorch"
   ]
  },
  {
   "cell_type": "code",
   "id": "4538c40d501885f4",
   "metadata": {
    "collapsed": false
   },
   "source": [
    "# https://pytorch.org/get-started/locally/\n",
    "!{sys.executable} -m pip install torch"
   ],
   "outputs": [],
   "execution_count": null
  },
  {
   "cell_type": "code",
   "id": "807830327e2a66c",
   "metadata": {
    "collapsed": false,
    "ExecuteTime": {
     "end_time": "2024-12-01T10:47:47.506416Z",
     "start_time": "2024-12-01T10:47:46.758145Z"
    }
   },
   "source": [
    "import torch\n",
    "\n",
    "print(\"torch: \", torch.__version__)\n",
    "print(torch.device('cuda' if torch.cuda.is_available() else 'cpu'))"
   ],
   "outputs": [
    {
     "name": "stdout",
     "output_type": "stream",
     "text": [
      "torch:  2.5.1+cu124\n",
      "cuda\n"
     ]
    }
   ],
   "execution_count": 4
  },
  {
   "cell_type": "markdown",
   "id": "a0a52be6457b88f0",
   "metadata": {
    "collapsed": false
   },
   "source": [
    "## Install PyTorch Geometric"
   ]
  },
  {
   "cell_type": "code",
   "id": "7c4457f0a056422",
   "metadata": {
    "collapsed": false
   },
   "source": [
    "# https://pytorch-geometric.readthedocs.io/en/latest/install/installation.html\n",
    "!{sys.executable} -m pip install torch_geometric"
   ],
   "outputs": [],
   "execution_count": null
  },
  {
   "cell_type": "code",
   "id": "d405876d28bc08e2",
   "metadata": {
    "collapsed": false,
    "ExecuteTime": {
     "end_time": "2024-12-01T10:47:48.906773Z",
     "start_time": "2024-12-01T10:47:48.407358Z"
    }
   },
   "source": [
    "import torch_geometric\n",
    "\n",
    "print(\"torch_geometric: \", torch_geometric.__version__)"
   ],
   "outputs": [
    {
     "name": "stdout",
     "output_type": "stream",
     "text": [
      "torch_geometric:  2.6.1\n"
     ]
    }
   ],
   "execution_count": 6
  },
  {
   "metadata": {
    "ExecuteTime": {
     "end_time": "2024-12-01T10:47:48.978115Z",
     "start_time": "2024-12-01T10:47:48.910756Z"
    }
   },
   "cell_type": "code",
   "source": [
    "from torch_geometric.data import Data\n",
    "import torch\n",
    "\n",
    "# Create a small graph and send it to the GPU\n",
    "edge_index = torch.tensor([[0, 1], [1, 2]], dtype=torch.long)\n",
    "x = torch.tensor([[-1], [0], [1]], dtype=torch.float)\n",
    "data = Data(x=x, edge_index=edge_index)\n",
    "data = data.to('cuda')\n",
    "\n",
    "print(data.x.is_cuda)"
   ],
   "id": "332470222116b668",
   "outputs": [
    {
     "name": "stdout",
     "output_type": "stream",
     "text": [
      "True\n"
     ]
    }
   ],
   "execution_count": 7
  },
  {
   "cell_type": "markdown",
   "id": "e1a05aeff9d8792c",
   "metadata": {
    "collapsed": false
   },
   "source": [
    "## Test installation"
   ]
  },
  {
   "cell_type": "code",
   "id": "dc83552ed952a581",
   "metadata": {
    "collapsed": false,
    "ExecuteTime": {
     "end_time": "2024-12-01T10:48:14.372673Z",
     "start_time": "2024-12-01T10:48:14.342981Z"
    }
   },
   "source": [
    "from torch_geometric.data import Data\n",
    "import torch_geometric.nn as pyg_nn\n",
    "\n",
    "# Create a simple graph data example\n",
    "edge_index = torch.tensor([[0, 1, 1], [1, 0, 2]], dtype=torch.long)\n",
    "x = torch.tensor([[1, 2], [2, 3], [3, 4]], dtype=torch.float)\n",
    "data = Data(x=x, edge_index=edge_index)\n",
    "\n",
    "# Move data to the specified device\n",
    "device = torch.device('cuda' if torch.cuda.is_available() else 'cpu')\n",
    "data = data.to(device)\n",
    "print(\"Data device:\", data.x.device)\n",
    "\n",
    "# Define a simple GCN model\n",
    "class SimpleGNN(torch.nn.Module):\n",
    "    def __init__(self):\n",
    "        super(SimpleGNN, self).__init__()\n",
    "        self.conv1 = pyg_nn.GCNConv(2, 2)\n",
    "        self.conv2 = pyg_nn.GCNConv(2, 2)\n",
    "\n",
    "    def forward(self, data):\n",
    "        x, edge_index = data.x, data.edge_index\n",
    "        x = self.conv1(x, edge_index)\n",
    "        x = torch.relu(x)\n",
    "        x = self.conv2(x, edge_index)\n",
    "        return x\n",
    "\n",
    "# Initialize and move the model to the device\n",
    "model = SimpleGNN().to(device)\n",
    "print(\"Model device:\", next(model.parameters()).device)\n",
    "\n",
    "# Perform a forward pass\n",
    "output = model(data)\n",
    "print(\"Model output:\", output)"
   ],
   "outputs": [
    {
     "name": "stdout",
     "output_type": "stream",
     "text": [
      "Data device: cuda:0\n",
      "Model device: cuda:0\n",
      "Model output: tensor([[-0.1295,  0.0694],\n",
      "        [-0.1295,  0.0694],\n",
      "        [-0.0988,  0.0530]], device='cuda:0', grad_fn=<AddBackward0>)\n"
     ]
    }
   ],
   "execution_count": 9
  }
 ],
 "metadata": {
  "kernelspec": {
   "display_name": ".venv",
   "language": "python",
   "name": "python3"
  },
  "language_info": {
   "codemirror_mode": {
    "name": "ipython",
    "version": 2
   },
   "file_extension": ".py",
   "mimetype": "text/x-python",
   "name": "python",
   "nbconvert_exporter": "python",
   "pygments_lexer": "ipython2",
   "version": "3.12.7"
  }
 },
 "nbformat": 4,
 "nbformat_minor": 5
}
