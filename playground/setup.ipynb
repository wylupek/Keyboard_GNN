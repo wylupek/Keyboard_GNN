{
 "cells": [
  {
   "cell_type": "markdown",
   "source": [
    "## CUDA"
   ],
   "metadata": {
    "collapsed": false
   },
   "id": "518f930eeb9ed6"
  },
  {
   "cell_type": "code",
   "id": "initial_id",
   "metadata": {
    "collapsed": true,
    "ExecuteTime": {
     "end_time": "2024-10-09T15:47:58.435439Z",
     "start_time": "2024-10-09T15:47:58.327511Z"
    }
   },
   "source": [
    "import sys\n",
    "print(sys.executable)\n",
    "!{sys.executable} --version"
   ],
   "outputs": [
    {
     "name": "stdout",
     "output_type": "stream",
     "text": [
      "/home/filip/Documents/.venvs/gnn/bin/python\n",
      "Python 3.12.7\r\n"
     ]
    }
   ],
   "execution_count": 1
  },
  {
   "cell_type": "code",
   "source": [
    "!/usr/local/cuda-12.4/bin/nvcc --version\n",
    "print(\"Nvidia drivers: \", end=\"\")\n",
    "!nvidia-smi --query-gpu=driver_version --format=csv,noheader"
   ],
   "metadata": {
    "collapsed": false,
    "ExecuteTime": {
     "end_time": "2024-10-09T15:48:02.872097Z",
     "start_time": "2024-10-09T15:48:02.590538Z"
    }
   },
   "id": "68cb505718dd3b69",
   "outputs": [
    {
     "name": "stdout",
     "output_type": "stream",
     "text": [
      "nvcc: NVIDIA (R) Cuda compiler driver\r\n",
      "Copyright (c) 2005-2024 NVIDIA Corporation\r\n",
      "Built on Thu_Mar_28_02:18:24_PDT_2024\r\n",
      "Cuda compilation tools, release 12.4, V12.4.131\r\n",
      "Build cuda_12.4.r12.4/compiler.34097967_0\r\n",
      "Nvidia drivers: 550.107.02\r\n"
     ]
    }
   ],
   "execution_count": 2
  },
  {
   "cell_type": "markdown",
   "source": [
    "## Install PyTorch"
   ],
   "metadata": {
    "collapsed": false
   },
   "id": "65c19d1ca77087ae"
  },
  {
   "cell_type": "code",
   "source": [
    "# https://pytorch.org/get-started/locally/\n",
    "!{sys.executable} -m pip install torch torchvision torchaudio --index-url https://download.pytorch.org/whl/cu124"
   ],
   "metadata": {
    "collapsed": false
   },
   "id": "4538c40d501885f4",
   "outputs": [],
   "execution_count": null
  },
  {
   "cell_type": "code",
   "source": [
    "import torch, torchvision, torchaudio\n",
    "\n",
    "print(\"torch: \", torch.__version__)\n",
    "print(\"torchaudio: \", torchvision.__version__)\n",
    "print(\"torchvision: \", torchaudio.__version__)"
   ],
   "metadata": {
    "collapsed": false,
    "ExecuteTime": {
     "end_time": "2024-10-09T15:50:30.753419Z",
     "start_time": "2024-10-09T15:50:29.774513Z"
    }
   },
   "id": "807830327e2a66c",
   "outputs": [
    {
     "name": "stdout",
     "output_type": "stream",
     "text": [
      "torch:  2.4.1+cu124\n",
      "torchaudio:  0.19.1+cu124\n",
      "torchvision:  2.4.1+cu124\n"
     ]
    }
   ],
   "execution_count": 4
  },
  {
   "cell_type": "code",
   "source": [
    "print(torch.device('cuda' if torch.cuda.is_available() else 'cpu'))"
   ],
   "metadata": {
    "collapsed": false,
    "ExecuteTime": {
     "end_time": "2024-10-09T15:50:38.487032Z",
     "start_time": "2024-10-09T15:50:38.438381Z"
    }
   },
   "id": "b75710233554f89a",
   "outputs": [
    {
     "name": "stdout",
     "output_type": "stream",
     "text": [
      "cuda\n"
     ]
    }
   ],
   "execution_count": 5
  },
  {
   "cell_type": "markdown",
   "source": [
    "## Install PyTorch Geometric"
   ],
   "metadata": {
    "collapsed": false
   },
   "id": "a0a52be6457b88f0"
  },
  {
   "cell_type": "code",
   "source": [
    "# https://pytorch-geometric.readthedocs.io/en/latest/install/installation.html\n",
    "!{sys.executable} -m pip install torch_geometric\n",
    "!{sys.executable} -m pip install pyg_lib torch_scatter torch_sparse torch_cluster torch_spline_conv -f https://data.pyg.org/whl/torch-2.4.0+cu124.html"
   ],
   "metadata": {
    "collapsed": false
   },
   "id": "7c4457f0a056422",
   "outputs": [],
   "execution_count": null
  },
  {
   "cell_type": "code",
   "source": [
    "import torch_geometric\n",
    "import torch_scatter\n",
    "import torch_sparse\n",
    "import torch_cluster\n",
    "import torch_spline_conv\n",
    "\n",
    "print(\"torch_geometric: \", torch_geometric.__version__)\n",
    "print(\"torch_scatter version:\", torch_scatter.__version__)\n",
    "print(\"torch_sparse version:\", torch_sparse.__version__)\n",
    "print(\"torch_cluster version:\", torch_cluster.__version__)\n",
    "print(\"torch_spline_conv version:\", torch_spline_conv.__version__)"
   ],
   "metadata": {
    "collapsed": false,
    "ExecuteTime": {
     "end_time": "2024-10-09T15:51:28.728374Z",
     "start_time": "2024-10-09T15:51:28.419511Z"
    }
   },
   "id": "d405876d28bc08e2",
   "outputs": [
    {
     "name": "stdout",
     "output_type": "stream",
     "text": [
      "torch_geometric:  2.6.1\n",
      "torch_scatter version: 2.1.2+pt24cu124\n",
      "torch_sparse version: 0.6.18+pt24cu124\n",
      "torch_cluster version: 1.6.3+pt24cu124\n",
      "torch_spline_conv version: 1.2.2+pt24cu124\n"
     ]
    }
   ],
   "execution_count": 7
  },
  {
   "cell_type": "markdown",
   "source": [
    "## Test installation"
   ],
   "metadata": {
    "collapsed": false
   },
   "id": "e1a05aeff9d8792c"
  },
  {
   "cell_type": "code",
   "source": [
    "from torch_geometric.data import Data\n",
    "import torch_geometric.nn as pyg_nn\n",
    "\n",
    "# Create a simple graph data example\n",
    "edge_index = torch.tensor([[0, 1, 1], [1, 0, 2]], dtype=torch.long)\n",
    "x = torch.tensor([[1, 2], [2, 3], [3, 4]], dtype=torch.float)\n",
    "data = Data(x=x, edge_index=edge_index)\n",
    "\n",
    "# Move data to the specified device\n",
    "device = torch.device('cuda' if torch.cuda.is_available() else 'cpu')\n",
    "data = data.to(device)\n",
    "print(\"Data device:\", data.x.device)\n",
    "\n",
    "# Define a simple GCN model\n",
    "class SimpleGNN(torch.nn.Module):\n",
    "    def __init__(self):\n",
    "        super(SimpleGNN, self).__init__()\n",
    "        self.conv1 = pyg_nn.GCNConv(2, 2)\n",
    "        self.conv2 = pyg_nn.GCNConv(2, 2)\n",
    "\n",
    "    def forward(self, data):\n",
    "        x, edge_index = data.x, data.edge_index\n",
    "        x = self.conv1(x, edge_index)\n",
    "        x = torch.relu(x)\n",
    "        x = self.conv2(x, edge_index)\n",
    "        return x\n",
    "\n",
    "# Initialize and move the model to the device\n",
    "model = SimpleGNN().to(device)\n",
    "print(\"Model device:\", next(model.parameters()).device)\n",
    "\n",
    "# Perform a forward pass\n",
    "output = model(data)\n",
    "print(\"Model output:\", output)"
   ],
   "metadata": {
    "collapsed": false,
    "ExecuteTime": {
     "end_time": "2024-10-09T16:10:29.340503Z",
     "start_time": "2024-10-09T16:10:29.324637Z"
    }
   },
   "id": "dc83552ed952a581",
   "outputs": [
    {
     "name": "stdout",
     "output_type": "stream",
     "text": [
      "Data device: cuda:0\n",
      "Model device: cuda:0\n",
      "Model output: tensor([[-1.1759,  1.2075],\n",
      "        [-1.1759,  1.2075],\n",
      "        [-1.2063,  1.2387]], device='cuda:0', grad_fn=<AddBackward0>)\n"
     ]
    }
   ],
   "execution_count": 9
  }
 ],
 "metadata": {
  "kernelspec": {
   "name": "gnn",
   "language": "python",
   "display_name": "Python 3.12 (gnn)"
  },
  "language_info": {
   "codemirror_mode": {
    "name": "ipython",
    "version": 2
   },
   "file_extension": ".py",
   "mimetype": "text/x-python",
   "name": "python",
   "nbconvert_exporter": "python",
   "pygments_lexer": "ipython2",
   "version": "2.7.6"
  }
 },
 "nbformat": 4,
 "nbformat_minor": 5
}
