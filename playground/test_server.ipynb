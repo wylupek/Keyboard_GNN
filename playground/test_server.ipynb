{
 "cells": [
  {
   "metadata": {},
   "cell_type": "markdown",
   "source": "### Setup",
   "id": "fcbf148acd10d471"
  },
  {
   "metadata": {
    "ExecuteTime": {
     "end_time": "2024-12-01T11:10:34.145115Z",
     "start_time": "2024-12-01T11:10:34.098827Z"
    }
   },
   "cell_type": "code",
   "source": [
    "import requests\n",
    "from dotenv import load_dotenv\n",
    "import os\n",
    "import csv\n",
    "\n",
    "\n",
    "load_dotenv()\n",
    "ssl_cert_file = os.getenv(\"SSL_CERT_FILE_PATH\")\n",
    "url = \"https://192.168.1.100:8000/\"\n",
    "\n",
    "username = \"test\"\n",
    "file_username = \"user4\""
   ],
   "id": "5d8590d1d2669281",
   "outputs": [],
   "execution_count": 1
  },
  {
   "metadata": {
    "ExecuteTime": {
     "end_time": "2024-12-01T11:10:34.157574Z",
     "start_time": "2024-12-01T11:10:34.148189Z"
    }
   },
   "cell_type": "code",
   "source": [
    "response = requests.get(url, verify=ssl_cert_file)\n",
    "if response.status_code == 200:\n",
    "    print(\"Response from server:\", response.json())\n",
    "else:\n",
    "    print(\"Error:\", response.status_code, response.text)"
   ],
   "id": "f9e62ce697fe1554",
   "outputs": [
    {
     "name": "stdout",
     "output_type": "stream",
     "text": [
      "Response from server: {'message': 'Hello, World!'}\n"
     ]
    }
   ],
   "execution_count": 2
  },
  {
   "metadata": {},
   "cell_type": "markdown",
   "source": [
    "### Training\n",
    "Remember to move file_username file from training directory (so its not included as negative example)"
   ],
   "id": "edf10c77ed9c02e2"
  },
  {
   "metadata": {
    "ExecuteTime": {
     "end_time": "2024-12-01T11:10:34.314498Z",
     "start_time": "2024-12-01T11:10:34.259247Z"
    }
   },
   "cell_type": "code",
   "source": [
    "tsv_file_path = f\"../datasets/{file_username}.tsv\"\n",
    "num_stages = 5\n",
    "\n",
    "with open(tsv_file_path, \"r\", encoding=\"utf-8\") as file:\n",
    "    reader = csv.reader(file, delimiter=\"\\t\")\n",
    "    headers = next(reader)\n",
    "    rows = list(reader)\n",
    "\n",
    "\n",
    "rows_per_stage = len(rows) // num_stages\n",
    "for i in range(num_stages - 1):\n",
    "    start_index = rows_per_stage * i\n",
    "    end_index = start_index + rows_per_stage\n",
    "    \n",
    "    tsv_data = \"\\t\".join(headers) + \"\\n\"\n",
    "    tsv_data += \"\\n\".join([\"\\t\".join(row) for row in rows[start_index:end_index]])\n",
    "    \n",
    "    response = requests.post(\n",
    "        url + 'upload_tsv',\n",
    "        params={\"username\": username},\n",
    "        data=tsv_data,\n",
    "        verify=ssl_cert_file,\n",
    "    )\n",
    "\n",
    "    if response.status_code == 200:\n",
    "        print(\"Response from server:\", response.json())\n",
    "    else:\n",
    "        print(\"Error:\", response.status_code, response.text)"
   ],
   "id": "85223c6e947a5c72",
   "outputs": [
    {
     "name": "stdout",
     "output_type": "stream",
     "text": [
      "Response from server: {'message': 'TSV data received successfully'}\n",
      "Response from server: {'message': 'TSV data received successfully'}\n",
      "Response from server: {'message': 'TSV data received successfully'}\n",
      "Response from server: {'message': 'TSV data received successfully'}\n"
     ]
    }
   ],
   "execution_count": 3
  },
  {
   "metadata": {
    "ExecuteTime": {
     "end_time": "2024-12-01T11:11:26.069637Z",
     "start_time": "2024-12-01T11:10:34.337426Z"
    }
   },
   "cell_type": "code",
   "source": [
    "tsv_data = \"\\t\".join(headers) + \"\\n\"\n",
    "tsv_data += \"\\n\".join([\"\\t\".join(row) for row in rows[rows_per_stage * (num_stages - 1):]])\n",
    "\n",
    "response = requests.post(\n",
    "    url + 'train',\n",
    "    params={\"username\": username},\n",
    "    data=tsv_data,\n",
    "    verify=ssl_cert_file,\n",
    ")\n",
    "\n",
    "if response.status_code == 200:\n",
    "    print(\"Response from server:\", response.json())\n",
    "else:\n",
    "    print(\"Error:\", response.status_code, response.text)"
   ],
   "id": "d0afdb36a7cea762",
   "outputs": [
    {
     "name": "stdout",
     "output_type": "stream",
     "text": [
      "Response from server: {'message': 'TSV data received successfully. Training succeeded.'}\n"
     ]
    }
   ],
   "execution_count": 4
  },
  {
   "metadata": {},
   "cell_type": "markdown",
   "source": "### Inference",
   "id": "48610a233cc154d4"
  },
  {
   "metadata": {
    "ExecuteTime": {
     "end_time": "2024-12-01T11:11:26.618631Z",
     "start_time": "2024-12-01T11:11:26.142031Z"
    }
   },
   "cell_type": "code",
   "source": [
    "tsv_file_path = f\"../datasets/inference/{file_username}.tsv\"\n",
    "\n",
    "with open(tsv_file_path, \"r\", encoding=\"utf-8\") as file:\n",
    "    tsv_data = file.read()\n",
    "\n",
    "\n",
    "response = requests.post(\n",
    "    url + 'inference',\n",
    "    params={\"username\": username},\n",
    "    data=tsv_data,\n",
    "    verify=ssl_cert_file,\n",
    ")\n",
    "\n",
    "if response.status_code == 200:\n",
    "    print(\"Response from server:\\n\", response.json())\n",
    "else:\n",
    "    print(\"Error:\", response.status_code, response.text)"
   ],
   "id": "8b9a432b704dc767",
   "outputs": [
    {
     "name": "stdout",
     "output_type": "stream",
     "text": [
      "Response from server:\n",
      " {'message': 'TSV data received successfully. Inference succeeded', 'score': 1.0, 'prediction': 1}\n"
     ]
    }
   ],
   "execution_count": 5
  },
  {
   "metadata": {
    "ExecuteTime": {
     "end_time": "2024-12-01T11:13:00.149901Z",
     "start_time": "2024-12-01T11:12:59.613879Z"
    }
   },
   "cell_type": "code",
   "source": [
    "tsv_file_path = f\"../datasets/inference/user1.tsv\"\n",
    "\n",
    "with open(tsv_file_path, \"r\", encoding=\"utf-8\") as file:\n",
    "    tsv_data = file.read()\n",
    "\n",
    "\n",
    "response = requests.post(\n",
    "    url + 'inference',\n",
    "    params={\"username\": username},\n",
    "    data=tsv_data,\n",
    "    verify=ssl_cert_file,\n",
    ")\n",
    "\n",
    "if response.status_code == 200:\n",
    "    print(\"Response from server:\\n\", response.json())\n",
    "else:\n",
    "    print(\"Error:\", response.status_code, response.text)"
   ],
   "id": "666de8de8c655875",
   "outputs": [
    {
     "name": "stdout",
     "output_type": "stream",
     "text": [
      "Response from server:\n",
      " {'message': 'TSV data received successfully. Inference succeeded', 'score': 0.9014084339141846, 'prediction': 1}\n"
     ]
    }
   ],
   "execution_count": 10
  }
 ],
 "metadata": {
  "kernelspec": {
   "display_name": "Python 3",
   "language": "python",
   "name": "python3"
  },
  "language_info": {
   "codemirror_mode": {
    "name": "ipython",
    "version": 2
   },
   "file_extension": ".py",
   "mimetype": "text/x-python",
   "name": "python",
   "nbconvert_exporter": "python",
   "pygments_lexer": "ipython2",
   "version": "2.7.6"
  }
 },
 "nbformat": 4,
 "nbformat_minor": 5
}
