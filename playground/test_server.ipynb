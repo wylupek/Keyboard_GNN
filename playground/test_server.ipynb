{
 "cells": [
  {
   "metadata": {
    "ExecuteTime": {
     "end_time": "2024-11-25T20:16:52.872433Z",
     "start_time": "2024-11-25T20:16:52.815724Z"
    }
   },
   "cell_type": "code",
   "source": [
    "import requests\n",
    "from dotenv import load_dotenv\n",
    "import os\n",
    "\n",
    "url = \"https://192.168.1.100:8000/\"\n",
    "load_dotenv()\n",
    "ssl_cert_file = os.getenv(\"SSL_CERT_FILE_PATH\")"
   ],
   "id": "5d8590d1d2669281",
   "outputs": [],
   "execution_count": 1
  },
  {
   "metadata": {
    "ExecuteTime": {
     "end_time": "2024-11-25T20:16:55.194705Z",
     "start_time": "2024-11-25T20:16:55.183178Z"
    }
   },
   "cell_type": "code",
   "source": [
    "response = requests.get(url, verify=ssl_cert_file)\n",
    "if response.status_code == 200:\n",
    "    print(\"Response from server:\", response.json())\n",
    "else:\n",
    "    print(\"Error:\", response.status_code, response.text)"
   ],
   "id": "f9e62ce697fe1554",
   "outputs": [
    {
     "name": "stdout",
     "output_type": "stream",
     "text": [
      "Response from server: {'message': 'Hello, World!'}\n"
     ]
    }
   ],
   "execution_count": 2
  },
  {
   "metadata": {
    "ExecuteTime": {
     "end_time": "2024-11-25T20:17:57.312468Z",
     "start_time": "2024-11-25T20:17:04.274435Z"
    }
   },
   "cell_type": "code",
   "source": [
    "username = \"test_user\"\n",
    "tsv_file_path = \"../datasets/training/user4.tsv\"\n",
    "\n",
    "with open(tsv_file_path, \"r\", encoding=\"utf-8\") as file:\n",
    "    tsv_data = file.read()\n",
    "    \n",
    "    \n",
    "response = requests.post(\n",
    "    url + 'train',\n",
    "    params={\"username\": username},\n",
    "    data=tsv_data,\n",
    "    verify=ssl_cert_file,\n",
    ")\n",
    "\n",
    "if response.status_code == 200:\n",
    "    print(\"Response from server:\", response.json())\n",
    "else:\n",
    "    print(\"Error:\", response.status_code, response.text)"
   ],
   "id": "85223c6e947a5c72",
   "outputs": [
    {
     "name": "stdout",
     "output_type": "stream",
     "text": [
      "Response from server: {'message': 'TSV data received successfully'}\n"
     ]
    }
   ],
   "execution_count": 3
  },
  {
   "metadata": {
    "ExecuteTime": {
     "end_time": "2024-11-25T20:19:00.189947Z",
     "start_time": "2024-11-25T20:18:59.522151Z"
    }
   },
   "cell_type": "code",
   "source": [
    "username = \"test_user\"\n",
    "tsv_file_path = \"../datasets/inference/user4.tsv\"\n",
    "\n",
    "with open(tsv_file_path, \"r\", encoding=\"utf-8\") as file:\n",
    "    tsv_data = file.read()\n",
    "\n",
    "\n",
    "response = requests.post(\n",
    "    url + 'inference',\n",
    "    params={\"username\": username},\n",
    "    data=tsv_data,\n",
    "    verify=ssl_cert_file,\n",
    ")\n",
    "\n",
    "if response.status_code == 200:\n",
    "    print(\"Response from server:\", response.json())\n",
    "else:\n",
    "    print(\"Error:\", response.status_code, response.text)"
   ],
   "id": "8b9a432b704dc767",
   "outputs": [
    {
     "name": "stdout",
     "output_type": "stream",
     "text": [
      "Response from server: {'message': 'TSV data received successfully', 'score': 0.0845070406794548, 'prediction': 0}\n"
     ]
    }
   ],
   "execution_count": 4
  }
 ],
 "metadata": {
  "kernelspec": {
   "display_name": "Python 3",
   "language": "python",
   "name": "python3"
  },
  "language_info": {
   "codemirror_mode": {
    "name": "ipython",
    "version": 2
   },
   "file_extension": ".py",
   "mimetype": "text/x-python",
   "name": "python",
   "nbconvert_exporter": "python",
   "pygments_lexer": "ipython2",
   "version": "2.7.6"
  }
 },
 "nbformat": 4,
 "nbformat_minor": 5
}
