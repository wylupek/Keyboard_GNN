{
 "cells": [
  {
   "cell_type": "markdown",
   "id": "fcbf148acd10d471",
   "metadata": {},
   "source": [
    "### Setup"
   ]
  },
  {
   "cell_type": "code",
   "id": "5d8590d1d2669281",
   "metadata": {
    "ExecuteTime": {
     "end_time": "2025-01-29T11:28:24.511722Z",
     "start_time": "2025-01-29T11:28:24.465498Z"
    }
   },
   "source": [
    "import requests\n",
    "import csv\n",
    "\n",
    "ssl_cert_file = \"../ssl/cert.pem\"\n",
    "url = \"https://192.168.1.100:8000/\"\n",
    "\n",
    "username = \"test\"\n",
    "file_username = \"81\""
   ],
   "outputs": [],
   "execution_count": 1
  },
  {
   "cell_type": "code",
   "id": "f9e62ce697fe1554",
   "metadata": {
    "ExecuteTime": {
     "end_time": "2025-01-29T11:28:25.357154Z",
     "start_time": "2025-01-29T11:28:25.337723Z"
    }
   },
   "source": [
    "response = requests.get(url, verify=ssl_cert_file)\n",
    "if response.status_code == 200:\n",
    "    print(\"Response from server:\", response.json())\n",
    "else:\n",
    "    print(\"Error:\", response.status_code, response.text)"
   ],
   "outputs": [
    {
     "name": "stdout",
     "output_type": "stream",
     "text": [
      "Response from server: {'message': 'Hello, World!'}\n"
     ]
    }
   ],
   "execution_count": 2
  },
  {
   "cell_type": "markdown",
   "id": "edf10c77ed9c02e2",
   "metadata": {},
   "source": [
    "### Training\n",
    "Remember to move file_username file from training directory (so it's not included as negative example).\n",
    "\n",
    "For single file:"
   ]
  },
  {
   "cell_type": "code",
   "id": "85223c6e947a5c72",
   "metadata": {},
   "source": [
    "tsv_file_path = f\"../datasets/{file_username}.tsv\"\n",
    "num_stages = 5\n",
    "\n",
    "with open(tsv_file_path, \"r\", encoding=\"utf-8\") as file:\n",
    "    reader = csv.reader(file, delimiter=\"\\t\")\n",
    "    headers = next(reader)\n",
    "    rows = list(reader)\n",
    "\n",
    "\n",
    "rows_per_stage = len(rows) // num_stages\n",
    "for i in range(num_stages - 1):\n",
    "    start_index = rows_per_stage * i\n",
    "    end_index = start_index + rows_per_stage\n",
    "    \n",
    "    tsv_data = \"\\t\".join(headers) + \"\\n\"\n",
    "    tsv_data += \"\\n\".join([\"\\t\".join(row) for row in rows[start_index:end_index]])\n",
    "    \n",
    "    response = requests.post(\n",
    "        url + 'upload_tsv',\n",
    "        params={\"username\": username},\n",
    "        data=tsv_data,\n",
    "        verify=ssl_cert_file,\n",
    "    )\n",
    "\n",
    "    if response.status_code == 200:\n",
    "        print(\"Response from server:\", response.json())\n",
    "    else:\n",
    "        print(\"Error:\", response.status_code, response.text)"
   ],
   "outputs": [],
   "execution_count": null
  },
  {
   "cell_type": "code",
   "id": "d0afdb36a7cea762",
   "metadata": {},
   "source": [
    "tsv_data = \"\\t\".join(headers) + \"\\n\"\n",
    "tsv_data += \"\\n\".join([\"\\t\".join(row) for row in rows[rows_per_stage * (num_stages - 1):]])\n",
    "\n",
    "response = requests.post(\n",
    "    url + 'train',\n",
    "    params={\"username\": username},\n",
    "    data=tsv_data,\n",
    "    verify=ssl_cert_file,\n",
    ")\n",
    "\n",
    "if response.status_code == 200:\n",
    "    print(\"Response from server:\", response.json())\n",
    "else:\n",
    "    print(\"Error:\", response.status_code, response.text)"
   ],
   "outputs": [],
   "execution_count": null
  },
  {
   "metadata": {},
   "cell_type": "markdown",
   "source": "For multiple files:",
   "id": "e7b7a6c7e7fda65e"
  },
  {
   "metadata": {
    "ExecuteTime": {
     "end_time": "2025-01-29T11:28:31.113966Z",
     "start_time": "2025-01-29T11:28:31.061073Z"
    }
   },
   "cell_type": "code",
   "source": [
    "tsv_file_base = f\"../datasets/key_presses_\"\n",
    "num_stages = 5\n",
    "\n",
    "for i in range(num_stages - 1):\n",
    "    with open(f\"{tsv_file_base}{file_username}.{i + 1}.tsv\", \"r\", encoding=\"utf-8\") as file:\n",
    "        reader = csv.reader(file, delimiter=\"\\t\")\n",
    "        headers = next(reader)\n",
    "        rows = list(reader)\n",
    "        \n",
    "        tsv_data = \"\\t\".join(headers) + \"\\n\"\n",
    "        tsv_data += \"\\n\".join([\"\\t\".join(row) for row in rows])\n",
    "        \n",
    "        response = requests.post(\n",
    "            url + 'upload_tsv',\n",
    "            params={\"username\": username},\n",
    "            data=tsv_data,\n",
    "            verify=ssl_cert_file,\n",
    "        )\n",
    "    \n",
    "        if response.status_code == 200:\n",
    "            print(\"Response from server:\", response.json())\n",
    "        else:\n",
    "            print(\"Error:\", response.status_code, response.text)"
   ],
   "id": "ef377563cff639f7",
   "outputs": [
    {
     "name": "stdout",
     "output_type": "stream",
     "text": [
      "Response from server: {'message': 'TSV data received successfully'}\n",
      "Response from server: {'message': 'TSV data received successfully'}\n",
      "Response from server: {'message': 'TSV data received successfully'}\n",
      "Response from server: {'message': 'TSV data received successfully'}\n"
     ]
    }
   ],
   "execution_count": 3
  },
  {
   "metadata": {
    "ExecuteTime": {
     "end_time": "2025-01-29T11:32:44.292677Z",
     "start_time": "2025-01-29T11:28:38.795535Z"
    }
   },
   "cell_type": "code",
   "source": [
    "with open(f\"{tsv_file_base}{file_username}.{num_stages}.tsv\", \"r\", encoding=\"utf-8\") as file:\n",
    "    reader = csv.reader(file, delimiter=\"\\t\")\n",
    "    headers = next(reader)\n",
    "    rows = list(reader)\n",
    "    \n",
    "    tsv_data = \"\\t\".join(headers) + \"\\n\"\n",
    "    tsv_data += \"\\n\".join([\"\\t\".join(row) for row in rows])\n",
    "    \n",
    "    response = requests.post(\n",
    "        url + 'train',\n",
    "        params={\"username\": username},\n",
    "        data=tsv_data,\n",
    "        verify=ssl_cert_file,\n",
    "    )\n",
    "\n",
    "    if response.status_code == 200:\n",
    "        print(\"Response from server:\", response.json())\n",
    "    else:\n",
    "        print(\"Error:\", response.status_code, response.text)"
   ],
   "id": "97994a57fa2e7d1b",
   "outputs": [
    {
     "name": "stdout",
     "output_type": "stream",
     "text": [
      "Response from server: {'message': 'TSV data received successfully. Training succeeded.'}\n"
     ]
    }
   ],
   "execution_count": 4
  },
  {
   "cell_type": "markdown",
   "id": "48610a233cc154d4",
   "metadata": {},
   "source": [
    "### Inference"
   ]
  },
  {
   "cell_type": "code",
   "id": "8b9a432b704dc767",
   "metadata": {
    "ExecuteTime": {
     "end_time": "2025-01-29T11:33:50.377314Z",
     "start_time": "2025-01-29T11:33:50.248467Z"
    }
   },
   "source": [
    "tsv_file_path = f\"../datasets/key_presses_81.-1.tsv\"\n",
    "\n",
    "with open(tsv_file_path, \"r\", encoding=\"utf-8\") as file:\n",
    "    tsv_data = file.read()\n",
    "\n",
    "\n",
    "response = requests.post(\n",
    "    url + 'inference',\n",
    "    params={\"username\": username},\n",
    "    data=tsv_data,\n",
    "    verify=ssl_cert_file,\n",
    ")\n",
    "\n",
    "if response.status_code == 200:\n",
    "    print(\"Response from server:\\n\", response.json())\n",
    "else:\n",
    "    print(\"Error:\", response.status_code, response.text)"
   ],
   "outputs": [
    {
     "name": "stdout",
     "output_type": "stream",
     "text": [
      "Response from server:\n",
      " {'message': 'TSV data received successfully. Inference succeeded', 'score': 0.1666666716337204, 'prediction': 0}\n"
     ]
    }
   ],
   "execution_count": 5
  },
  {
   "cell_type": "code",
   "id": "666de8de8c655875",
   "metadata": {
    "ExecuteTime": {
     "end_time": "2025-01-29T11:34:13.355509Z",
     "start_time": "2025-01-29T11:34:13.274286Z"
    }
   },
   "source": [
    "tsv_file_path = f\"../datasets/key_presses_82.-1.tsv\"\n",
    "\n",
    "with open(tsv_file_path, \"r\", encoding=\"utf-8\") as file:\n",
    "    tsv_data = file.read()\n",
    "\n",
    "\n",
    "response = requests.post(\n",
    "    url + 'inference',\n",
    "    params={\"username\": username},\n",
    "    data=tsv_data,\n",
    "    verify=ssl_cert_file,\n",
    ")\n",
    "\n",
    "if response.status_code == 200:\n",
    "    print(\"Response from server:\\n\", response.json())\n",
    "else:\n",
    "    print(\"Error:\", response.status_code, response.text)"
   ],
   "outputs": [
    {
     "name": "stdout",
     "output_type": "stream",
     "text": [
      "Response from server:\n",
      " {'message': 'TSV data received successfully. Inference succeeded', 'score': 0.0, 'prediction': 0}\n"
     ]
    }
   ],
   "execution_count": 6
  }
 ],
 "metadata": {
  "kernelspec": {
   "display_name": "Python 3",
   "language": "python",
   "name": "python3"
  },
  "language_info": {
   "codemirror_mode": {
    "name": "ipython",
    "version": 2
   },
   "file_extension": ".py",
   "mimetype": "text/x-python",
   "name": "python",
   "nbconvert_exporter": "python",
   "pygments_lexer": "ipython2",
   "version": "2.7.6"
  }
 },
 "nbformat": 4,
 "nbformat_minor": 5
}
