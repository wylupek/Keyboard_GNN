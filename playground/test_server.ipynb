{
 "cells": [
  {
   "metadata": {},
   "cell_type": "markdown",
   "source": "### Setup",
   "id": "fcbf148acd10d471"
  },
  {
   "metadata": {
    "ExecuteTime": {
     "end_time": "2024-12-01T11:37:50.501964Z",
     "start_time": "2024-12-01T11:37:50.496878Z"
    }
   },
   "cell_type": "code",
   "source": [
    "import requests\n",
    "import csv\n",
    "\n",
    "\n",
    "ssl_cert_file = \"../ssl/cert.pem\"\n",
    "url = \"https://192.168.1.100:8000/\"\n",
    "\n",
    "username = \"test\"\n",
    "file_username = \"user4\""
   ],
   "id": "5d8590d1d2669281",
   "outputs": [],
   "execution_count": 11
  },
  {
   "metadata": {
    "ExecuteTime": {
     "end_time": "2024-12-01T11:37:50.526381Z",
     "start_time": "2024-12-01T11:37:50.512422Z"
    }
   },
   "cell_type": "code",
   "source": [
    "response = requests.get(url, verify=ssl_cert_file)\n",
    "if response.status_code == 200:\n",
    "    print(\"Response from server:\", response.json())\n",
    "else:\n",
    "    print(\"Error:\", response.status_code, response.text)"
   ],
   "id": "f9e62ce697fe1554",
   "outputs": [
    {
     "name": "stdout",
     "output_type": "stream",
     "text": [
      "Response from server: {'message': 'Hello, World!'}\n"
     ]
    }
   ],
   "execution_count": 12
  },
  {
   "metadata": {},
   "cell_type": "markdown",
   "source": [
    "### Training\n",
    "Remember to move file_username file from training directory (so its not included as negative example)"
   ],
   "id": "edf10c77ed9c02e2"
  },
  {
   "metadata": {
    "ExecuteTime": {
     "end_time": "2024-12-01T11:37:50.706576Z",
     "start_time": "2024-12-01T11:37:50.632439Z"
    }
   },
   "cell_type": "code",
   "source": [
    "tsv_file_path = f\"../datasets/{file_username}.tsv\"\n",
    "num_stages = 5\n",
    "\n",
    "with open(tsv_file_path, \"r\", encoding=\"utf-8\") as file:\n",
    "    reader = csv.reader(file, delimiter=\"\\t\")\n",
    "    headers = next(reader)\n",
    "    rows = list(reader)\n",
    "\n",
    "\n",
    "rows_per_stage = len(rows) // num_stages\n",
    "for i in range(num_stages - 1):\n",
    "    start_index = rows_per_stage * i\n",
    "    end_index = start_index + rows_per_stage\n",
    "    \n",
    "    tsv_data = \"\\t\".join(headers) + \"\\n\"\n",
    "    tsv_data += \"\\n\".join([\"\\t\".join(row) for row in rows[start_index:end_index]])\n",
    "    \n",
    "    response = requests.post(\n",
    "        url + 'upload_tsv',\n",
    "        params={\"username\": username},\n",
    "        data=tsv_data,\n",
    "        verify=ssl_cert_file,\n",
    "    )\n",
    "\n",
    "    if response.status_code == 200:\n",
    "        print(\"Response from server:\", response.json())\n",
    "    else:\n",
    "        print(\"Error:\", response.status_code, response.text)"
   ],
   "id": "85223c6e947a5c72",
   "outputs": [
    {
     "name": "stdout",
     "output_type": "stream",
     "text": [
      "Response from server: {'message': 'TSV data received successfully'}\n",
      "Response from server: {'message': 'TSV data received successfully'}\n",
      "Response from server: {'message': 'TSV data received successfully'}\n",
      "Response from server: {'message': 'TSV data received successfully'}\n"
     ]
    }
   ],
   "execution_count": 13
  },
  {
   "metadata": {
    "ExecuteTime": {
     "end_time": "2024-12-01T11:38:43.077831Z",
     "start_time": "2024-12-01T11:37:50.713916Z"
    }
   },
   "cell_type": "code",
   "source": [
    "tsv_data = \"\\t\".join(headers) + \"\\n\"\n",
    "tsv_data += \"\\n\".join([\"\\t\".join(row) for row in rows[rows_per_stage * (num_stages - 1):]])\n",
    "\n",
    "response = requests.post(\n",
    "    url + 'train',\n",
    "    params={\"username\": username},\n",
    "    data=tsv_data,\n",
    "    verify=ssl_cert_file,\n",
    ")\n",
    "\n",
    "if response.status_code == 200:\n",
    "    print(\"Response from server:\", response.json())\n",
    "else:\n",
    "    print(\"Error:\", response.status_code, response.text)"
   ],
   "id": "d0afdb36a7cea762",
   "outputs": [
    {
     "name": "stdout",
     "output_type": "stream",
     "text": [
      "Response from server: {'message': 'TSV data received successfully. Training succeeded.'}\n"
     ]
    }
   ],
   "execution_count": 14
  },
  {
   "metadata": {},
   "cell_type": "markdown",
   "source": "### Inference",
   "id": "48610a233cc154d4"
  },
  {
   "metadata": {
    "ExecuteTime": {
     "end_time": "2024-12-01T11:38:43.609287Z",
     "start_time": "2024-12-01T11:38:43.127170Z"
    }
   },
   "cell_type": "code",
   "source": [
    "tsv_file_path = f\"../datasets/inference/{file_username}.tsv\"\n",
    "\n",
    "with open(tsv_file_path, \"r\", encoding=\"utf-8\") as file:\n",
    "    tsv_data = file.read()\n",
    "\n",
    "\n",
    "response = requests.post(\n",
    "    url + 'inference',\n",
    "    params={\"username\": username},\n",
    "    data=tsv_data,\n",
    "    verify=ssl_cert_file,\n",
    ")\n",
    "\n",
    "if response.status_code == 200:\n",
    "    print(\"Response from server:\\n\", response.json())\n",
    "else:\n",
    "    print(\"Error:\", response.status_code, response.text)"
   ],
   "id": "8b9a432b704dc767",
   "outputs": [
    {
     "name": "stdout",
     "output_type": "stream",
     "text": [
      "Response from server:\n",
      " {'message': 'TSV data received successfully. Inference succeeded', 'score': 1.0, 'prediction': 1}\n"
     ]
    }
   ],
   "execution_count": 15
  },
  {
   "metadata": {
    "ExecuteTime": {
     "end_time": "2024-12-01T11:38:44.130033Z",
     "start_time": "2024-12-01T11:38:43.613265Z"
    }
   },
   "cell_type": "code",
   "source": [
    "tsv_file_path = f\"../datasets/inference/user1.tsv\"\n",
    "\n",
    "with open(tsv_file_path, \"r\", encoding=\"utf-8\") as file:\n",
    "    tsv_data = file.read()\n",
    "\n",
    "\n",
    "response = requests.post(\n",
    "    url + 'inference',\n",
    "    params={\"username\": username},\n",
    "    data=tsv_data,\n",
    "    verify=ssl_cert_file,\n",
    ")\n",
    "\n",
    "if response.status_code == 200:\n",
    "    print(\"Response from server:\\n\", response.json())\n",
    "else:\n",
    "    print(\"Error:\", response.status_code, response.text)"
   ],
   "id": "666de8de8c655875",
   "outputs": [
    {
     "name": "stdout",
     "output_type": "stream",
     "text": [
      "Response from server:\n",
      " {'message': 'TSV data received successfully. Inference succeeded', 'score': 0.7887324094772339, 'prediction': 1}\n"
     ]
    }
   ],
   "execution_count": 16
  }
 ],
 "metadata": {
  "kernelspec": {
   "display_name": "Python 3",
   "language": "python",
   "name": "python3"
  },
  "language_info": {
   "codemirror_mode": {
    "name": "ipython",
    "version": 2
   },
   "file_extension": ".py",
   "mimetype": "text/x-python",
   "name": "python",
   "nbconvert_exporter": "python",
   "pygments_lexer": "ipython2",
   "version": "2.7.6"
  }
 },
 "nbformat": 4,
 "nbformat_minor": 5
}
