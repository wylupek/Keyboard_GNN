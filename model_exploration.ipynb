{
 "cells": [
  {
   "cell_type": "code",
   "execution_count": 37,
   "metadata": {},
   "outputs": [],
   "source": [
    "import torch\n",
    "from torch_geometric.data import Data\n",
    "import torch_geometric.nn as pyg_nn\n",
    "import torch.nn.functional as F"
   ]
  },
  {
   "cell_type": "markdown",
   "metadata": {},
   "source": [
    "### Below we specify arbitrary constants or hiperparams"
   ]
  },
  {
   "cell_type": "code",
   "execution_count": 38,
   "metadata": {},
   "outputs": [],
   "source": [
    "import data_loader\n",
    "\n",
    "test_train_split = 0.2 # 0.2 into test\n",
    "rows_per_example = 20\n",
    "mode = mode=data_loader.load_char_mode.DROP\n",
    "NUM_HIDDEN_DIMS = 64\n",
    "NUM_EPOCHS = 1000"
   ]
  },
  {
   "cell_type": "code",
   "execution_count": 39,
   "metadata": {},
   "outputs": [],
   "source": [
    "\n",
    "# Define a simple GCN model\n",
    "class LetterGNN(torch.nn.Module):\n",
    "    def __init__(self, num_node_features, hidden_dim, num_classes, num_layers=2):\n",
    "        super(LetterGNN, self).__init__()\n",
    "\n",
    "        self.convs = torch.nn.ModuleList()\n",
    "        self.convs.append(pyg_nn.GCNConv(num_node_features, hidden_dim))\n",
    "        for _ in range(num_layers - 1):\n",
    "            self.convs.append(pyg_nn.GCNConv(hidden_dim, hidden_dim))\n",
    "\n",
    "        self.fc = torch.nn.Linear(hidden_dim, num_classes)\n",
    "\n",
    "    def forward(self, x, edge_index, batch):\n",
    "        for conv in self.convs:\n",
    "            x = x.float()\n",
    "            edge_index = edge_index.long()\n",
    "            x = conv.forward(x, edge_index)\n",
    "            x = F.relu(x)\n",
    "        \n",
    "        # idk maybe use a different pool method \n",
    "        x = pyg_nn.global_mean_pool(x, batch)\n",
    "\n",
    "        # classify\n",
    "        x = self.fc(x)\n",
    "\n",
    "        return x\n",
    "        \n"
   ]
  },
  {
   "cell_type": "code",
   "execution_count": 40,
   "metadata": {},
   "outputs": [
    {
     "name": "stdout",
     "output_type": "stream",
     "text": [
      "Number of examples:  38\n",
      "Number of train examples:  30\n",
      "Number of test examples:  8\n",
      "Number of samples in the dataset: 30\n"
     ]
    },
    {
     "name": "stderr",
     "output_type": "stream",
     "text": [
      "c:\\Users\\Igor\\vscode\\inzynierka\\.venv\\Lib\\site-packages\\torch_geometric\\data\\in_memory_dataset.py:300: UserWarning: It is not recommended to directly access the internal storage format `data` of an 'InMemoryDataset'. If you are absolutely certain what you are doing, access the internal storage via `InMemoryDataset._data` instead to suppress this warning. Alternatively, you can access stacked individual attributes of every graph via `dataset.{attr_name}`.\n",
      "  warnings.warn(msg)\n"
     ]
    }
   ],
   "source": [
    "from torch_geometric.data import InMemoryDataset, Data\n",
    "from sklearn.model_selection import train_test_split\n",
    "import data_loader\n",
    "\n",
    "\n",
    "device = torch.device('cuda' if torch.cuda.is_available() else 'cpu')\n",
    "\n",
    "\n",
    "data_list_pos = data_loader.load_data_object(\"../key_presses1.csv\", mode=mode, y=torch.tensor([0]), rows_per_example=rows_per_example)\n",
    "data_list_neg  = data_loader.load_data_object(\"../key_presses2.csv\",  mode=mode, y=torch.tensor([1]), rows_per_example=rows_per_example)\n",
    "num_features = data_list_pos[0].x.shape[1]\n",
    "\n",
    "data_list_pos = [elem.to(device) for elem in data_list_pos]\n",
    "data_list_neg = [elem.to(device) for elem in data_list_neg]\n",
    "\n",
    "print(\"Number of examples: \", len(data_list_neg) + len(data_list_pos))\n",
    "\n",
    "train_pos_list, test_pos_list = train_test_split(data_list_pos, test_size=test_train_split)\n",
    "train_neg_list, test_neg_list = train_test_split(data_list_neg, test_size=test_train_split)\n",
    "\n",
    "print(\"Number of train examples: \", len(train_neg_list) + len(train_pos_list))\n",
    "print(\"Number of test examples: \", len(test_neg_list) + len(test_pos_list))\n",
    "\n",
    "# # Move data to the specified device\n",
    "class SimpleGraphDataset(InMemoryDataset):\n",
    "    def __init__(self, data_list):\n",
    "        super(SimpleGraphDataset, self).__init__('.', None, None, None)\n",
    "        self.data, self.slices = self.collate(data_list)  # Collate all data objects\n",
    "\n",
    "    def __len__(self):\n",
    "        return len(self.data.y)  # Number of graphs in the dataset\n",
    "\n",
    "\n",
    "# Create the dataset\n",
    "dataset = SimpleGraphDataset(train_pos_list + train_neg_list)\n",
    "\n",
    "# Create the dataset\n",
    "test_dataset = SimpleGraphDataset(test_pos_list + test_neg_list)\n",
    "\n",
    "# Check the dataset\n",
    "print(\"Number of samples in the dataset:\", len(dataset))"
   ]
  },
  {
   "cell_type": "code",
   "execution_count": 41,
   "metadata": {},
   "outputs": [
    {
     "name": "stderr",
     "output_type": "stream",
     "text": [
      "c:\\Users\\Igor\\vscode\\inzynierka\\.venv\\Lib\\site-packages\\torch_geometric\\data\\in_memory_dataset.py:300: UserWarning: It is not recommended to directly access the internal storage format `data` of an 'InMemoryDataset'. The data of the dataset is already cached, so any modifications to `data` will not be reflected when accessing its elements. Clearing the cache now by removing all elements in `dataset._data_list`. If you are absolutely certain what you are doing, access the internal storage via `InMemoryDataset._data` instead to suppress this warning. Alternatively, you can access stacked individual attributes of every graph via `dataset.{attr_name}`.\n",
      "  warnings.warn(msg)\n"
     ]
    },
    {
     "name": "stdout",
     "output_type": "stream",
     "text": [
      "Epoch: 050, Loss: 0.7761\n",
      "Epoch: 100, Loss: 0.5487\n",
      "Epoch: 150, Loss: 0.4366\n",
      "Epoch: 200, Loss: 0.2191\n",
      "Epoch: 250, Loss: 0.5726\n",
      "Epoch: 300, Loss: 0.5499\n",
      "Epoch: 350, Loss: 0.5057\n",
      "Epoch: 400, Loss: 0.4493\n",
      "Epoch: 450, Loss: 0.3911\n",
      "Epoch: 500, Loss: 0.3412\n",
      "Epoch: 550, Loss: 0.2988\n",
      "Epoch: 600, Loss: 0.2619\n",
      "Epoch: 650, Loss: 0.2301\n",
      "Epoch: 700, Loss: 0.2036\n",
      "Epoch: 750, Loss: 0.1795\n",
      "Epoch: 800, Loss: 0.1594\n",
      "Epoch: 850, Loss: 0.1420\n",
      "Epoch: 900, Loss: 0.1269\n",
      "Epoch: 950, Loss: 0.1137\n"
     ]
    }
   ],
   "source": [
    "# Train the model \n",
    "\n",
    "from torch_geometric.loader import DataLoader\n",
    "# Q: How Do we choose hidden dims size ?? !!!!!!!!!!\n",
    "\n",
    "# Define the model, loss, and optimizer\n",
    "model = LetterGNN(num_node_features=dataset.num_node_features, hidden_dim=NUM_HIDDEN_DIMS, num_classes=dataset.num_classes).to(device)\n",
    "optimizer = torch.optim.Adam(model.parameters(), lr=0.01)\n",
    "criterion = torch.nn.CrossEntropyLoss()\n",
    "\n",
    "# Train loop\n",
    "def train(model, data_loader):\n",
    "    model.train()\n",
    "    total_loss = 0\n",
    "    for data in data_loader:\n",
    "        optimizer.zero_grad()\n",
    "        output = model(data.x, data.edge_index, data.batch)  # Forward pass\n",
    "        loss = criterion(output, data.y)  # Compute the loss\n",
    "        loss.backward()  # Backpropagation\n",
    "        optimizer.step()  # Update the model parameters\n",
    "        total_loss += loss.item()\n",
    "    return total_loss / len(data_loader)\n",
    "\n",
    "\n",
    "# Training over epochs\n",
    "data_loader = DataLoader(dataset, batch_size=32, shuffle=True)\n",
    "for epoch in range(1, NUM_EPOCHS):\n",
    "    loss = train(model, data_loader)\n",
    "    if epoch % 50 == 0:\n",
    "        print(f\"Epoch: {epoch:03d}, Loss: {loss:.4f}\")"
   ]
  },
  {
   "cell_type": "code",
   "execution_count": 42,
   "metadata": {},
   "outputs": [
    {
     "name": "stdout",
     "output_type": "stream",
     "text": [
      "Correct 0 Pred 0\n",
      "Correct 0 Pred 0\n",
      "Correct 0 Pred 0\n",
      "Correct 0 Pred 0\n",
      "Correct 0 Pred 0\n",
      "Correct 1 Pred 1\n",
      "Correct 1 Pred 1\n",
      "Correct 1 Pred 0\n",
      "tensor([8.3764, 7.5730], device='cuda:0', grad_fn=<SelectBackward0>)\n",
      "Test Accuracy: 0.8750\n"
     ]
    }
   ],
   "source": [
    "# test \n",
    "def test(model, data_loader):\n",
    "    model.eval()\n",
    "    correct = 0\n",
    "    for data in data_loader:\n",
    "        output = model(data.x, data.edge_index, data.batch)\n",
    "        pred = output.argmax(dim=1)  # Get the index of the max log-probability\n",
    "        print(f\"Correct {data.y[0]} Pred {pred[0]}\")\n",
    "        if pred != data.y:\n",
    "            print(output[0])\n",
    "        correct += (pred == data.y).sum().item()\n",
    "    return correct / len(data_loader.dataset)\n",
    "\n",
    "# Test the model\n",
    "test_loader = DataLoader(test_dataset, batch_size=1, shuffle=False)\n",
    "accuracy = test(model, test_loader)\n",
    "print(f\"Test Accuracy: {accuracy:.4f}\")"
   ]
  }
 ],
 "metadata": {
  "kernelspec": {
   "display_name": ".venv",
   "language": "python",
   "name": "python3"
  },
  "language_info": {
   "codemirror_mode": {
    "name": "ipython",
    "version": 3
   },
   "file_extension": ".py",
   "mimetype": "text/x-python",
   "name": "python",
   "nbconvert_exporter": "python",
   "pygments_lexer": "ipython3",
   "version": "3.12.7"
  }
 },
 "nbformat": 4,
 "nbformat_minor": 2
}
